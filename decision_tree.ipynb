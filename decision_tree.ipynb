{
 "cells": [
  {
   "cell_type": "code",
   "execution_count": null,
   "metadata": {},
   "outputs": [],
   "source": [
    "# Decision Tree Classifier\n",
    "# Removed Empty Data Records\n",
    "\n",
    "import pandas as pd\n",
    "import numpy as np\n",
    "from sklearn.model_selection import train_test_split\n",
    "from sklearn.tree import DecisionTreeClassifier\n",
    "from sklearn.impute import SimpleImputer\n",
    "from sklearn.metrics import accuracy_score\n",
    "\n",
    "# Replace '?' with NaN\n",
    "merged_dataset.replace('?', np.nan, inplace=True)\n",
    "\n",
    "# Convert all columns to numeric\n",
    "merged_dataset = merged_dataset.apply(pd.to_numeric, errors='coerce')\n",
    "\n",
    "# Drop rows where the target variable is NaN\n",
    "merged_dataset.dropna(subset=['target'], inplace=True)  # Replace 'target_column_name' with your actual target column name\n",
    "\n",
    "# Define features and target variable\n",
    "X = merged_dataset.drop('target', axis=1)  # Replace 'target_column_name' with your actual target column name\n",
    "y = merged_dataset['target']  # Replace 'target_column_name' with your actual target column name\n",
    "\n",
    "# Impute missing values in features using the mean of each column\n",
    "imputer = SimpleImputer(strategy='mean')\n",
    "X_imputed = imputer.fit_transform(X)\n",
    "\n",
    "# Split the data into training and testing sets\n",
    "X_train, X_test, y_train, y_test = train_test_split(X_imputed, y, test_size=0.2, random_state=42)\n",
    "\n",
    "# Initialize the Decision Tree classifier\n",
    "model = DecisionTreeClassifier(random_state=42)\n",
    "\n",
    "# Train the model\n",
    "model.fit(X_train, y_train)\n",
    "\n",
    "# Make predictions\n",
    "y_pred = model.predict(X_test)\n",
    "\n",
    "# Evaluate the model\n",
    "accuracy = accuracy_score(y_test, y_pred)\n",
    "print(f\"Decision Tree Model Accuracy: {accuracy * 100:.2f}%\")\n"
   ]
  }
 ],
 "metadata": {
  "language_info": {
   "name": "python"
  }
 },
 "nbformat": 4,
 "nbformat_minor": 2
}
