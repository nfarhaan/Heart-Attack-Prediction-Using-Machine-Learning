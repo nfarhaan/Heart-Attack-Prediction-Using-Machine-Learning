{
 "cells": [
  {
   "cell_type": "code",
   "execution_count": null,
   "metadata": {},
   "outputs": [],
   "source": [
    "import pandas as pd\n",
    "import numpy as np\n",
    "from sklearn.model_selection import train_test_split\n",
    "from sklearn.impute import SimpleImputer\n",
    "from sklearn.metrics import accuracy_score\n",
    "from sklearn.neural_network import MLPClassifier\n",
    "\n",
    "# Replace '?' with NaN\n",
    "merged_dataset.replace('?', np.nan, inplace=True)\n",
    "\n",
    "# Convert all columns to numeric\n",
    "merged_dataset = merged_dataset.apply(pd.to_numeric, errors='coerce')\n",
    "\n",
    "# Drop rows where the target variable is NaN\n",
    "merged_dataset.dropna(subset=['target'], inplace=True)  # Replace 'target' with your actual target column name\n",
    "\n",
    "# Define features and target variable\n",
    "X = merged_dataset.drop('target', axis=1)  # Replace 'target' with your actual target column name\n",
    "y = merged_dataset['target']  # Replace 'target' with your actual target column name\n",
    "\n",
    "# Impute missing values in features using the mean of each column\n",
    "imputer = SimpleImputer(strategy='mean')\n",
    "X_imputed = imputer.fit_transform(X)\n",
    "\n",
    "# Split the data into training and testing sets\n",
    "X_train, X_test, y_train, y_test = train_test_split(X_imputed, y, test_size=0.2, random_state=42)\n",
    "\n",
    "# Initialize the Neural Network classifier\n",
    "model2 = MLPClassifier(hidden_layer_sizes=(100,), max_iter=300, random_state=42)\n",
    "\n",
    "# Train the model\n",
    "model2.fit(X_train, y_train)\n",
    "\n",
    "# Make predictions\n",
    "y_pred = model2.predict(X_test)\n",
    "\n",
    "# Evaluate the model\n",
    "accuracy = accuracy_score(y_test, y_pred)\n",
    "print(f\"Neural Network Model Accuracy: {accuracy * 100:.2f}%\")"
   ]
  },
  {
   "cell_type": "code",
   "execution_count": null,
   "metadata": {},
   "outputs": [],
   "source": [
    "# prompt: predict using a record\n",
    "\n",
    "import numpy as np\n",
    "# Example new record (replace with your actual values)\n",
    "new_record = np.array([[67, 0, 3, 60, 200, 0, 0, 100, 0, 1.6, 0, 0, 7]])\n",
    "\n",
    "# Impute missing values if any (using the same imputer fitted earlier)\n",
    "new_record_imputed = imputer.transform(new_record)\n",
    "\n",
    "# Make prediction\n",
    "prediction = model2.predict(new_record_imputed)\n",
    "\n",
    "# Print prediction\n",
    "if prediction[0] == 0:\n",
    "    print(\"Prediction: No Heart Attack\")\n",
    "else:\n",
    "    print(\"Prediction: Heart Attack\")\n"
   ]
  }
 ],
 "metadata": {
  "language_info": {
   "name": "python"
  }
 },
 "nbformat": 4,
 "nbformat_minor": 2
}
