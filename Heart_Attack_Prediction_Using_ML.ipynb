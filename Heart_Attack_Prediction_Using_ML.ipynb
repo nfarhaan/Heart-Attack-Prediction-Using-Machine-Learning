{
  "nbformat": 4,
  "nbformat_minor": 0,
  "metadata": {
    "colab": {
      "provenance": [],
      "include_colab_link": true
    },
    "kernelspec": {
      "name": "python3",
      "display_name": "Python 3"
    },
    "language_info": {
      "name": "python"
    }
  },
  "cells": [
    {
      "cell_type": "markdown",
      "metadata": {
        "id": "view-in-github",
        "colab_type": "text"
      },
      "source": [
        "<a href=\"https://colab.research.google.com/github/nfarhaan/Heart-Disease-Prediction-Using-Machine-Learning/blob/main/Heart_Attack_Prediction_Using_ML.ipynb\" target=\"_parent\"><img src=\"https://colab.research.google.com/assets/colab-badge.svg\" alt=\"Open In Colab\"/></a>"
      ]
    },
    {
      "cell_type": "markdown",
      "source": [
        "## Load Dataset"
      ],
      "metadata": {
        "id": "PYxYIXEDqb7M"
      }
    },
    {
      "cell_type": "code",
      "source": [
        "# Install Kaggle and Configure API\n",
        "\n",
        "!pip install kaggle\n",
        "\n",
        "# create kaggle.json\n",
        "import json\n",
        "token = {\"username\":\"farhaan789689 \",\"key\":\"c0be9b1a4bfed93c17bee11a85ebff1d\"}\n",
        "with open('/content/kaggle.json', 'w') as file:\n",
        "  json.dump(token, file)\n",
        "\n",
        "!chmod 600 /content/kaggle.json\n",
        "!cp /content/kaggle.json ~/.kaggle/kaggle.json\n"
      ],
      "metadata": {
        "colab": {
          "base_uri": "https://localhost:8080/"
        },
        "id": "bqHe4rxOxYQg",
        "outputId": "caf14b32-d015-40b3-8605-cd89842e58e4"
      },
      "execution_count": null,
      "outputs": [
        {
          "output_type": "stream",
          "name": "stdout",
          "text": [
            "Requirement already satisfied: kaggle in /usr/local/lib/python3.10/dist-packages (1.6.17)\n",
            "Requirement already satisfied: six>=1.10 in /usr/local/lib/python3.10/dist-packages (from kaggle) (1.16.0)\n",
            "Requirement already satisfied: certifi>=2023.7.22 in /usr/local/lib/python3.10/dist-packages (from kaggle) (2024.7.4)\n",
            "Requirement already satisfied: python-dateutil in /usr/local/lib/python3.10/dist-packages (from kaggle) (2.8.2)\n",
            "Requirement already satisfied: requests in /usr/local/lib/python3.10/dist-packages (from kaggle) (2.32.3)\n",
            "Requirement already satisfied: tqdm in /usr/local/lib/python3.10/dist-packages (from kaggle) (4.66.5)\n",
            "Requirement already satisfied: python-slugify in /usr/local/lib/python3.10/dist-packages (from kaggle) (8.0.4)\n",
            "Requirement already satisfied: urllib3 in /usr/local/lib/python3.10/dist-packages (from kaggle) (2.0.7)\n",
            "Requirement already satisfied: bleach in /usr/local/lib/python3.10/dist-packages (from kaggle) (6.1.0)\n",
            "Requirement already satisfied: webencodings in /usr/local/lib/python3.10/dist-packages (from bleach->kaggle) (0.5.1)\n",
            "Requirement already satisfied: text-unidecode>=1.3 in /usr/local/lib/python3.10/dist-packages (from python-slugify->kaggle) (1.3)\n",
            "Requirement already satisfied: charset-normalizer<4,>=2 in /usr/local/lib/python3.10/dist-packages (from requests->kaggle) (3.3.2)\n",
            "Requirement already satisfied: idna<4,>=2.5 in /usr/local/lib/python3.10/dist-packages (from requests->kaggle) (3.7)\n",
            "cp: cannot create regular file '/root/.kaggle/kaggle.json': No such file or directory\n"
          ]
        }
      ]
    },
    {
      "cell_type": "code",
      "source": [
        "# Download the Datasets\n",
        "\n",
        "!kaggle datasets download -d rashikrahmanpritom/heart-attack-analysis-prediction-dataset\n",
        "!kaggle datasets download -d johnsmith88/heart-disease-dataset\n",
        "!kaggle datasets download -d imnikhilanand/heart-attack-prediction\n",
        "!kaggle datasets download -d rishidamarla/heart-disease-prediction\n"
      ],
      "metadata": {
        "colab": {
          "base_uri": "https://localhost:8080/"
        },
        "id": "vMK4Z9hPxmX9",
        "outputId": "0a5ad18f-f956-4c1a-eeeb-1b8559afc4c3"
      },
      "execution_count": null,
      "outputs": [
        {
          "output_type": "stream",
          "name": "stdout",
          "text": [
            "Dataset URL: https://www.kaggle.com/datasets/rashikrahmanpritom/heart-attack-analysis-prediction-dataset\n",
            "License(s): CC0-1.0\n",
            "Downloading heart-attack-analysis-prediction-dataset.zip to /content\n",
            "  0% 0.00/4.11k [00:00<?, ?B/s]\n",
            "100% 4.11k/4.11k [00:00<00:00, 7.17MB/s]\n",
            "Dataset URL: https://www.kaggle.com/datasets/johnsmith88/heart-disease-dataset\n",
            "License(s): unknown\n",
            "Downloading heart-disease-dataset.zip to /content\n",
            "  0% 0.00/6.18k [00:00<?, ?B/s]\n",
            "100% 6.18k/6.18k [00:00<00:00, 13.3MB/s]\n",
            "Dataset URL: https://www.kaggle.com/datasets/imnikhilanand/heart-attack-prediction\n",
            "License(s): CC0-1.0\n",
            "Downloading heart-attack-prediction.zip to /content\n",
            "  0% 0.00/2.61k [00:00<?, ?B/s]\n",
            "100% 2.61k/2.61k [00:00<00:00, 5.03MB/s]\n",
            "Dataset URL: https://www.kaggle.com/datasets/rishidamarla/heart-disease-prediction\n",
            "License(s): CC0-1.0\n",
            "Downloading heart-disease-prediction.zip to /content\n",
            "  0% 0.00/3.41k [00:00<?, ?B/s]\n",
            "100% 3.41k/3.41k [00:00<00:00, 6.66MB/s]\n"
          ]
        }
      ]
    },
    {
      "cell_type": "code",
      "source": [
        "# Unzip datasets\n",
        "\n",
        "# Unzip and rename for dataset 1\n",
        "!unzip heart-attack-analysis-prediction-dataset.zip\n",
        "!mv heart.csv heart_attack_analysis.csv\n",
        "\n",
        "# Unzip and rename for dataset 2\n",
        "!unzip heart-disease-dataset.zip\n",
        "!mv heart.csv heart_disease_dataset.csv\n",
        "\n",
        "# Unzip and rename for dataset 3\n",
        "!unzip heart-attack-prediction.zip\n",
        "!mv data.csv heart_attack_prediction.csv\n",
        "\n",
        "# Unzip and rename for dataset 4\n",
        "!unzip heart-disease-prediction.zip\n",
        "!mv Heart_Disease_Prediction.csv heart_disease_prediction.csv\n",
        "\n"
      ],
      "metadata": {
        "colab": {
          "base_uri": "https://localhost:8080/"
        },
        "id": "uI10eldQxrhW",
        "outputId": "33ae6ab5-28a7-4f01-befb-1ef44e0031f9"
      },
      "execution_count": null,
      "outputs": [
        {
          "output_type": "stream",
          "name": "stdout",
          "text": [
            "Archive:  heart-attack-analysis-prediction-dataset.zip\n",
            "  inflating: heart.csv               \n",
            "replace o2Saturation.csv? [y]es, [n]o, [A]ll, [N]one, [r]ename: Archive:  heart-disease-dataset.zip\n",
            "  inflating: heart.csv               \n",
            "Archive:  heart-attack-prediction.zip\n",
            "replace data.csv? [y]es, [n]o, [A]ll, [N]one, [r]ename: Archive:  heart-disease-prediction.zip\n",
            "  inflating: Heart_Disease_Prediction.csv  \n"
          ]
        }
      ]
    },
    {
      "cell_type": "code",
      "source": [
        "# New Columns\n",
        "\n",
        "new_columns = ['age', 'sex', 'cp', 'trestbps', 'chol', 'fbs', 'restecg',\n",
        "                  'thalachh', 'exang', 'oldpeak', 'slope', 'ca', 'thal']"
      ],
      "metadata": {
        "id": "eNyF4L41LlpU"
      },
      "execution_count": 17,
      "outputs": []
    },
    {
      "cell_type": "code",
      "source": [
        "# Panda Config\n",
        "\n",
        "import pandas as pd"
      ],
      "metadata": {
        "id": "KhMFlx4Axy_l"
      },
      "execution_count": null,
      "outputs": []
    },
    {
      "cell_type": "code",
      "source": [
        "# Load the first dataset\n",
        "\n",
        "dataset_1 = pd.read_csv('/content/heart_attack_analysis.csv')\n",
        "print(\"Dataset 1 Columns:\")\n",
        "print(dataset_1.columns)\n",
        "\n",
        "# Keep only the required columns and rename them\n",
        "dataset_1 = dataset_1.iloc[:, :len(new_columns)]  # Keep only the first 13 columns\n",
        "dataset_1.columns = new_columns  # Rename columns\n",
        "print(dataset_1.columns)"
      ],
      "metadata": {
        "colab": {
          "base_uri": "https://localhost:8080/"
        },
        "id": "dmLK6l2dx-KH",
        "outputId": "4137dcfc-d5a8-4166-9fce-f0b2b493a381"
      },
      "execution_count": 20,
      "outputs": [
        {
          "output_type": "stream",
          "name": "stdout",
          "text": [
            "Dataset 1 Columns:\n",
            "Index(['age', 'sex', 'cp', 'trtbps', 'chol', 'fbs', 'restecg', 'thalachh',\n",
            "       'exng', 'oldpeak', 'slp', 'caa', 'thall', 'output'],\n",
            "      dtype='object')\n",
            "Index(['age', 'sex', 'cp', 'trestbps', 'chol', 'fbs', 'restecg', 'thalachh',\n",
            "       'exang', 'oldpeak', 'slope', 'ca', 'thal'],\n",
            "      dtype='object')\n"
          ]
        }
      ]
    },
    {
      "cell_type": "code",
      "source": [
        "# Load the second dataset\n",
        "\n",
        "dataset_2 = pd.read_csv('/content/heart_disease_dataset.csv')\n",
        "print(\"Dataset 2 Columns:\")\n",
        "print(dataset_2.columns)\n",
        "\n",
        "# Keep only the required columns and rename them\n",
        "dataset_2 = dataset_2.iloc[:, :len(new_columns)]  # Keep only the first 13 columns\n",
        "dataset_2.columns = new_columns  # Rename columns\n",
        "print(dataset_2.columns)"
      ],
      "metadata": {
        "colab": {
          "base_uri": "https://localhost:8080/"
        },
        "id": "8wzvVam2yCEJ",
        "outputId": "d71ebf7e-e2ff-42d9-da4f-c317dfca9be4"
      },
      "execution_count": 21,
      "outputs": [
        {
          "output_type": "stream",
          "name": "stdout",
          "text": [
            "Dataset 2 Columns:\n",
            "Index(['age', 'sex', 'cp', 'trestbps', 'chol', 'fbs', 'restecg', 'thalach',\n",
            "       'exang', 'oldpeak', 'slope', 'ca', 'thal', 'target'],\n",
            "      dtype='object')\n",
            "Index(['age', 'sex', 'cp', 'trestbps', 'chol', 'fbs', 'restecg', 'thalachh',\n",
            "       'exang', 'oldpeak', 'slope', 'ca', 'thal'],\n",
            "      dtype='object')\n"
          ]
        }
      ]
    },
    {
      "cell_type": "code",
      "source": [
        "# Load the second dataset\n",
        "\n",
        "dataset_3 = pd.read_csv('/content/heart_attack_prediction.csv')\n",
        "print(\"Dataset 3 Columns:\")\n",
        "print(dataset_3.columns)\n",
        "\n",
        "# Keep only the required columns and rename them\n",
        "dataset_3 = dataset_3.iloc[:, :len(new_columns)]  # Keep only the first 13 columns\n",
        "dataset_3.columns = new_columns  # Rename columns\n",
        "print(dataset_3.columns)"
      ],
      "metadata": {
        "colab": {
          "base_uri": "https://localhost:8080/"
        },
        "id": "4RPF8dFZyEUc",
        "outputId": "ecf2dc58-4db9-408f-8a2c-e3fbd60b1392"
      },
      "execution_count": 22,
      "outputs": [
        {
          "output_type": "stream",
          "name": "stdout",
          "text": [
            "Dataset 3 Columns:\n",
            "Index(['age', 'sex', 'cp', 'trestbps', 'chol', 'fbs', 'restecg', 'thalach',\n",
            "       'exang', 'oldpeak', 'slope', 'ca', 'thal', 'num       '],\n",
            "      dtype='object')\n",
            "Index(['age', 'sex', 'cp', 'trestbps', 'chol', 'fbs', 'restecg', 'thalachh',\n",
            "       'exang', 'oldpeak', 'slope', 'ca', 'thal'],\n",
            "      dtype='object')\n"
          ]
        }
      ]
    },
    {
      "cell_type": "code",
      "source": [
        "# Load the third dataset\n",
        "\n",
        "dataset_4 = pd.read_csv('/content/heart_disease_prediction.csv')\n",
        "print(\"Dataset 4 Columns:\")\n",
        "print(dataset_4.columns)\n",
        "\n",
        "# Keep only the required columns and rename them\n",
        "dataset_4 = dataset_4.iloc[:, :len(new_columns)]  # Keep only the first 13 columns\n",
        "dataset_4.columns = new_columns  # Rename columns\n",
        "print(dataset_1.columns)"
      ],
      "metadata": {
        "colab": {
          "base_uri": "https://localhost:8080/"
        },
        "id": "3sJvY6omyGUi",
        "outputId": "18cc538f-9da3-4f78-ca77-a87ec7fd9d5c"
      },
      "execution_count": 23,
      "outputs": [
        {
          "output_type": "stream",
          "name": "stdout",
          "text": [
            "Dataset 4 Columns:\n",
            "Index(['Age', 'Sex', 'Chest pain type', 'BP', 'Cholesterol', 'FBS over 120',\n",
            "       'EKG results', 'Max HR', 'Exercise angina', 'ST depression',\n",
            "       'Slope of ST', 'Number of vessels fluro', 'Thallium', 'Heart Disease'],\n",
            "      dtype='object')\n",
            "Index(['age', 'sex', 'cp', 'trestbps', 'chol', 'fbs', 'restecg', 'thalachh',\n",
            "       'exang', 'oldpeak', 'slope', 'ca', 'thal'],\n",
            "      dtype='object')\n"
          ]
        }
      ]
    },
    {
      "cell_type": "code",
      "source": [
        "# Merge all datasets\n",
        "merged_dataset = pd.concat([dataset_1, dataset_2, dataset_3, dataset_4], ignore_index=True)\n",
        "\n",
        "# Display the merged dataset\n",
        "print(\"Merged Dataset Columns:\")\n",
        "print(merged_dataset.columns)\n",
        "\n",
        "# Display the first few rows of the merged dataset\n",
        "print(\"Merged Dataset Preview:\")\n",
        "print(merged_dataset.head())\n",
        "\n",
        "# Print the number of rows and columns\n",
        "rows, columns = merged_dataset.shape\n",
        "print(f\"Number of Rows: {rows}\")\n",
        "print(f\"Number of Columns: {columns}\")"
      ],
      "metadata": {
        "colab": {
          "base_uri": "https://localhost:8080/"
        },
        "id": "lhjKnhltOVEU",
        "outputId": "adba8eb2-dffe-438e-b8d8-a032d8dc4a7f"
      },
      "execution_count": 25,
      "outputs": [
        {
          "output_type": "stream",
          "name": "stdout",
          "text": [
            "Merged Dataset Columns:\n",
            "Index(['age', 'sex', 'cp', 'trestbps', 'chol', 'fbs', 'restecg', 'thalachh',\n",
            "       'exang', 'oldpeak', 'slope', 'ca', 'thal'],\n",
            "      dtype='object')\n",
            "Merged Dataset Preview:\n",
            "   age  sex  cp trestbps chol fbs restecg thalachh exang  oldpeak slope ca  \\\n",
            "0   63    1   3      145  233   1       0      150     0      2.3     0  0   \n",
            "1   37    1   2      130  250   0       1      187     0      3.5     0  0   \n",
            "2   41    0   1      130  204   0       0      172     0      1.4     2  0   \n",
            "3   56    1   1      120  236   0       1      178     0      0.8     2  0   \n",
            "4   57    0   0      120  354   0       1      163     1      0.6     2  0   \n",
            "\n",
            "  thal  \n",
            "0    1  \n",
            "1    2  \n",
            "2    2  \n",
            "3    2  \n",
            "4    2  \n",
            "Number of Rows: 1892\n",
            "Number of Columns: 13\n"
          ]
        }
      ]
    }
  ]
}