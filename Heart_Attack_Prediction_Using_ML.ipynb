{
  "nbformat": 4,
  "nbformat_minor": 0,
  "metadata": {
    "colab": {
      "provenance": [],
      "include_colab_link": true
    },
    "kernelspec": {
      "name": "python3",
      "display_name": "Python 3"
    },
    "language_info": {
      "name": "python"
    }
  },
  "cells": [
    {
      "cell_type": "markdown",
      "metadata": {
        "id": "view-in-github",
        "colab_type": "text"
      },
      "source": [
        "<a href=\"https://colab.research.google.com/github/nfarhaan/Heart-Disease-Prediction-Using-Machine-Learning/blob/main/Heart_Attack_Prediction_Using_ML.ipynb\" target=\"_parent\"><img src=\"https://colab.research.google.com/assets/colab-badge.svg\" alt=\"Open In Colab\"/></a>"
      ]
    },
    {
      "cell_type": "markdown",
      "source": [
        "## Load Dataset"
      ],
      "metadata": {
        "id": "PYxYIXEDqb7M"
      }
    },
    {
      "cell_type": "code",
      "source": [
        "# Install Kaggle and Configure API\n",
        "\n",
        "!pip install kaggle\n",
        "\n",
        "# create kaggle.json\n",
        "import json\n",
        "token = {\"username\":\"farhaan789689 \",\"key\":\"c0be9b1a4bfed93c17bee11a85ebff1d\"}\n",
        "with open('/content/kaggle.json', 'w') as file:\n",
        "  json.dump(token, file)\n",
        "\n",
        "!chmod 600 /content/kaggle.json\n",
        "!cp /content/kaggle.json ~/.kaggle/kaggle.json\n"
      ],
      "metadata": {
        "colab": {
          "base_uri": "https://localhost:8080/"
        },
        "id": "bqHe4rxOxYQg",
        "outputId": "6d9a046f-11d3-4759-b2b7-c65eb54dfb4c"
      },
      "execution_count": 1,
      "outputs": [
        {
          "output_type": "stream",
          "name": "stdout",
          "text": [
            "Requirement already satisfied: kaggle in /usr/local/lib/python3.10/dist-packages (1.6.17)\n",
            "Requirement already satisfied: six>=1.10 in /usr/local/lib/python3.10/dist-packages (from kaggle) (1.16.0)\n",
            "Requirement already satisfied: certifi>=2023.7.22 in /usr/local/lib/python3.10/dist-packages (from kaggle) (2024.7.4)\n",
            "Requirement already satisfied: python-dateutil in /usr/local/lib/python3.10/dist-packages (from kaggle) (2.8.2)\n",
            "Requirement already satisfied: requests in /usr/local/lib/python3.10/dist-packages (from kaggle) (2.32.3)\n",
            "Requirement already satisfied: tqdm in /usr/local/lib/python3.10/dist-packages (from kaggle) (4.66.5)\n",
            "Requirement already satisfied: python-slugify in /usr/local/lib/python3.10/dist-packages (from kaggle) (8.0.4)\n",
            "Requirement already satisfied: urllib3 in /usr/local/lib/python3.10/dist-packages (from kaggle) (2.0.7)\n",
            "Requirement already satisfied: bleach in /usr/local/lib/python3.10/dist-packages (from kaggle) (6.1.0)\n",
            "Requirement already satisfied: webencodings in /usr/local/lib/python3.10/dist-packages (from bleach->kaggle) (0.5.1)\n",
            "Requirement already satisfied: text-unidecode>=1.3 in /usr/local/lib/python3.10/dist-packages (from python-slugify->kaggle) (1.3)\n",
            "Requirement already satisfied: charset-normalizer<4,>=2 in /usr/local/lib/python3.10/dist-packages (from requests->kaggle) (3.3.2)\n",
            "Requirement already satisfied: idna<4,>=2.5 in /usr/local/lib/python3.10/dist-packages (from requests->kaggle) (3.7)\n",
            "cp: cannot create regular file '/root/.kaggle/kaggle.json': No such file or directory\n"
          ]
        }
      ]
    },
    {
      "cell_type": "code",
      "source": [
        "# Download the Datasets\n",
        "\n",
        "!kaggle datasets download -d rashikrahmanpritom/heart-attack-analysis-prediction-dataset\n",
        "!kaggle datasets download -d johnsmith88/heart-disease-dataset\n",
        "!kaggle datasets download -d imnikhilanand/heart-attack-prediction\n",
        "!kaggle datasets download -d rishidamarla/heart-disease-prediction\n"
      ],
      "metadata": {
        "colab": {
          "base_uri": "https://localhost:8080/"
        },
        "id": "vMK4Z9hPxmX9",
        "outputId": "4cdc3232-d783-4774-e110-d0b491ad8f51"
      },
      "execution_count": 2,
      "outputs": [
        {
          "output_type": "stream",
          "name": "stdout",
          "text": [
            "Dataset URL: https://www.kaggle.com/datasets/rashikrahmanpritom/heart-attack-analysis-prediction-dataset\n",
            "License(s): CC0-1.0\n",
            "Downloading heart-attack-analysis-prediction-dataset.zip to /content\n",
            "  0% 0.00/4.11k [00:00<?, ?B/s]\n",
            "100% 4.11k/4.11k [00:00<00:00, 6.16MB/s]\n",
            "Dataset URL: https://www.kaggle.com/datasets/johnsmith88/heart-disease-dataset\n",
            "License(s): unknown\n",
            "Downloading heart-disease-dataset.zip to /content\n",
            "  0% 0.00/6.18k [00:00<?, ?B/s]\n",
            "100% 6.18k/6.18k [00:00<00:00, 11.3MB/s]\n",
            "Dataset URL: https://www.kaggle.com/datasets/imnikhilanand/heart-attack-prediction\n",
            "License(s): CC0-1.0\n",
            "Downloading heart-attack-prediction.zip to /content\n",
            "  0% 0.00/2.61k [00:00<?, ?B/s]\n",
            "100% 2.61k/2.61k [00:00<00:00, 5.01MB/s]\n",
            "Dataset URL: https://www.kaggle.com/datasets/rishidamarla/heart-disease-prediction\n",
            "License(s): CC0-1.0\n",
            "Downloading heart-disease-prediction.zip to /content\n",
            "  0% 0.00/3.41k [00:00<?, ?B/s]\n",
            "100% 3.41k/3.41k [00:00<00:00, 6.44MB/s]\n"
          ]
        }
      ]
    },
    {
      "cell_type": "code",
      "source": [
        "# Unzip datasets\n",
        "\n",
        "# Unzip and rename for dataset 1\n",
        "!unzip heart-attack-analysis-prediction-dataset.zip\n",
        "!mv heart.csv heart_attack_analysis.csv\n",
        "\n",
        "# Unzip and rename for dataset 2\n",
        "!unzip heart-disease-dataset.zip\n",
        "!mv heart.csv heart_disease_dataset.csv\n",
        "\n",
        "# Unzip and rename for dataset 3\n",
        "!unzip heart-attack-prediction.zip\n",
        "!mv data.csv heart_attack_prediction.csv\n",
        "\n",
        "# Unzip and rename for dataset 4\n",
        "!unzip heart-disease-prediction.zip\n",
        "!mv Heart_Disease_Prediction.csv heart_disease_prediction.csv\n",
        "\n"
      ],
      "metadata": {
        "colab": {
          "base_uri": "https://localhost:8080/"
        },
        "id": "uI10eldQxrhW",
        "outputId": "87f8f24d-8fb8-4d95-88a4-c196a5d39365"
      },
      "execution_count": 3,
      "outputs": [
        {
          "output_type": "stream",
          "name": "stdout",
          "text": [
            "Archive:  heart-attack-analysis-prediction-dataset.zip\n",
            "  inflating: heart.csv               \n",
            "  inflating: o2Saturation.csv        \n",
            "Archive:  heart-disease-dataset.zip\n",
            "  inflating: heart.csv               \n",
            "Archive:  heart-attack-prediction.zip\n",
            "  inflating: data.csv                \n",
            "Archive:  heart-disease-prediction.zip\n",
            "  inflating: Heart_Disease_Prediction.csv  \n"
          ]
        }
      ]
    },
    {
      "cell_type": "code",
      "source": [
        "# New Columns\n",
        "\n",
        "new_columns = ['age', 'sex', 'cp', 'trestbps', 'chol', 'fbs', 'restecg',\n",
        "                  'thalachh', 'exang', 'oldpeak', 'slope', 'ca', 'thal', 'target']"
      ],
      "metadata": {
        "id": "eNyF4L41LlpU"
      },
      "execution_count": 4,
      "outputs": []
    },
    {
      "cell_type": "code",
      "source": [
        "# Panda & NumPy Config\n",
        "\n",
        "import numpy as np\n",
        "import pandas as pd"
      ],
      "metadata": {
        "id": "KhMFlx4Axy_l"
      },
      "execution_count": 5,
      "outputs": []
    },
    {
      "cell_type": "code",
      "source": [
        "# Load the first dataset\n",
        "\n",
        "dataset_1 = pd.read_csv('/content/heart_attack_analysis.csv')\n",
        "print(\"Dataset 1 Columns:\")\n",
        "print(dataset_1.columns)\n",
        "\n",
        "# Keep only the required columns and rename them\n",
        "dataset_1 = dataset_1.iloc[:, :len(new_columns)]  # Keep only the first 13 columns\n",
        "dataset_1.columns = new_columns  # Rename columns\n",
        "print(dataset_1.columns)"
      ],
      "metadata": {
        "colab": {
          "base_uri": "https://localhost:8080/"
        },
        "id": "dmLK6l2dx-KH",
        "outputId": "e93f5656-47e8-48f9-ac7d-05da92031b2e"
      },
      "execution_count": 6,
      "outputs": [
        {
          "output_type": "stream",
          "name": "stdout",
          "text": [
            "Dataset 1 Columns:\n",
            "Index(['age', 'sex', 'cp', 'trtbps', 'chol', 'fbs', 'restecg', 'thalachh',\n",
            "       'exng', 'oldpeak', 'slp', 'caa', 'thall', 'output'],\n",
            "      dtype='object')\n",
            "Index(['age', 'sex', 'cp', 'trestbps', 'chol', 'fbs', 'restecg', 'thalachh',\n",
            "       'exang', 'oldpeak', 'slope', 'ca', 'thal', 'target'],\n",
            "      dtype='object')\n"
          ]
        }
      ]
    },
    {
      "cell_type": "code",
      "source": [
        "# Load the second dataset\n",
        "\n",
        "dataset_2 = pd.read_csv('/content/heart_disease_dataset.csv')\n",
        "print(\"Dataset 2 Columns:\")\n",
        "print(dataset_2.columns)\n",
        "\n",
        "# Keep only the required columns and rename them\n",
        "dataset_2 = dataset_2.iloc[:, :len(new_columns)]  # Keep only the first 13 columns\n",
        "dataset_2.columns = new_columns  # Rename columns\n",
        "print(dataset_2.columns)"
      ],
      "metadata": {
        "colab": {
          "base_uri": "https://localhost:8080/"
        },
        "id": "8wzvVam2yCEJ",
        "outputId": "096eb715-00f7-4fbd-ce35-718e75a4e645"
      },
      "execution_count": 7,
      "outputs": [
        {
          "output_type": "stream",
          "name": "stdout",
          "text": [
            "Dataset 2 Columns:\n",
            "Index(['age', 'sex', 'cp', 'trestbps', 'chol', 'fbs', 'restecg', 'thalach',\n",
            "       'exang', 'oldpeak', 'slope', 'ca', 'thal', 'target'],\n",
            "      dtype='object')\n",
            "Index(['age', 'sex', 'cp', 'trestbps', 'chol', 'fbs', 'restecg', 'thalachh',\n",
            "       'exang', 'oldpeak', 'slope', 'ca', 'thal', 'target'],\n",
            "      dtype='object')\n"
          ]
        }
      ]
    },
    {
      "cell_type": "code",
      "source": [
        "# Load the third dataset\n",
        "\n",
        "dataset_3 = pd.read_csv('/content/heart_attack_prediction.csv')\n",
        "print(\"Dataset 3 Columns:\")\n",
        "print(dataset_3.columns)\n",
        "\n",
        "# Keep only the required columns and rename them\n",
        "dataset_3 = dataset_3.iloc[:, :len(new_columns)]  # Keep only the first 13 columns\n",
        "dataset_3.columns = new_columns  # Rename columns\n",
        "print(dataset_3.columns)"
      ],
      "metadata": {
        "colab": {
          "base_uri": "https://localhost:8080/"
        },
        "id": "4RPF8dFZyEUc",
        "outputId": "18429974-4e85-4c47-cacb-67e5ff8df9c1"
      },
      "execution_count": 8,
      "outputs": [
        {
          "output_type": "stream",
          "name": "stdout",
          "text": [
            "Dataset 3 Columns:\n",
            "Index(['age', 'sex', 'cp', 'trestbps', 'chol', 'fbs', 'restecg', 'thalach',\n",
            "       'exang', 'oldpeak', 'slope', 'ca', 'thal', 'num       '],\n",
            "      dtype='object')\n",
            "Index(['age', 'sex', 'cp', 'trestbps', 'chol', 'fbs', 'restecg', 'thalachh',\n",
            "       'exang', 'oldpeak', 'slope', 'ca', 'thal', 'target'],\n",
            "      dtype='object')\n"
          ]
        }
      ]
    },
    {
      "cell_type": "code",
      "source": [
        "# Load the fourth dataset\n",
        "\n",
        "dataset_4 = pd.read_csv('/content/heart_disease_prediction.csv')\n",
        "print(\"Dataset 4 Columns:\")\n",
        "print(dataset_4.columns)\n",
        "\n",
        "# Keep only the required columns and rename them\n",
        "dataset_4 = dataset_4.iloc[:, :len(new_columns)]  # Keep only the first 13 columns\n",
        "dataset_4.columns = new_columns  # Rename columns\n",
        "print(dataset_1.columns)"
      ],
      "metadata": {
        "colab": {
          "base_uri": "https://localhost:8080/"
        },
        "id": "3sJvY6omyGUi",
        "outputId": "ce5bf81e-c8f6-409c-9fe2-fb887d78dab1"
      },
      "execution_count": 9,
      "outputs": [
        {
          "output_type": "stream",
          "name": "stdout",
          "text": [
            "Dataset 4 Columns:\n",
            "Index(['Age', 'Sex', 'Chest pain type', 'BP', 'Cholesterol', 'FBS over 120',\n",
            "       'EKG results', 'Max HR', 'Exercise angina', 'ST depression',\n",
            "       'Slope of ST', 'Number of vessels fluro', 'Thallium', 'Heart Disease'],\n",
            "      dtype='object')\n",
            "Index(['age', 'sex', 'cp', 'trestbps', 'chol', 'fbs', 'restecg', 'thalachh',\n",
            "       'exang', 'oldpeak', 'slope', 'ca', 'thal', 'target'],\n",
            "      dtype='object')\n"
          ]
        }
      ]
    },
    {
      "cell_type": "code",
      "source": [
        "# Merge all datasets\n",
        "merged_dataset = pd.concat([dataset_1, dataset_2, dataset_3, dataset_4], ignore_index=True)\n",
        "\n",
        "# Display the merged dataset\n",
        "print(\"Merged Dataset Columns:\")\n",
        "print(merged_dataset.columns)\n",
        "\n",
        "# Display the first few rows of the merged dataset\n",
        "print(\"Merged Dataset Preview:\")\n",
        "print(merged_dataset.head())\n",
        "\n",
        "# Print the number of rows and columns\n",
        "rows, columns = merged_dataset.shape\n",
        "print(f\"Number of Rows: {rows}\")\n",
        "print(f\"Number of Columns: {columns}\")"
      ],
      "metadata": {
        "colab": {
          "base_uri": "https://localhost:8080/"
        },
        "id": "lhjKnhltOVEU",
        "outputId": "441c6c8f-14cd-477d-b358-e2ee961be632"
      },
      "execution_count": 10,
      "outputs": [
        {
          "output_type": "stream",
          "name": "stdout",
          "text": [
            "Merged Dataset Columns:\n",
            "Index(['age', 'sex', 'cp', 'trestbps', 'chol', 'fbs', 'restecg', 'thalachh',\n",
            "       'exang', 'oldpeak', 'slope', 'ca', 'thal', 'target'],\n",
            "      dtype='object')\n",
            "Merged Dataset Preview:\n",
            "   age  sex  cp trestbps chol fbs restecg thalachh exang  oldpeak slope ca  \\\n",
            "0   63    1   3      145  233   1       0      150     0      2.3     0  0   \n",
            "1   37    1   2      130  250   0       1      187     0      3.5     0  0   \n",
            "2   41    0   1      130  204   0       0      172     0      1.4     2  0   \n",
            "3   56    1   1      120  236   0       1      178     0      0.8     2  0   \n",
            "4   57    0   0      120  354   0       1      163     1      0.6     2  0   \n",
            "\n",
            "  thal target  \n",
            "0    1      1  \n",
            "1    2      1  \n",
            "2    2      1  \n",
            "3    2      1  \n",
            "4    2      1  \n",
            "Number of Rows: 1892\n",
            "Number of Columns: 14\n"
          ]
        }
      ]
    },
    {
      "cell_type": "code",
      "source": [
        "# Identify rows with missing data represented by '?'\n",
        "missing_data_rows = merged_dataset.applymap(lambda x: x == '?').any(axis=1)\n",
        "\n",
        "# Count the number of rows with missing data\n",
        "num_missing_rows = missing_data_rows.sum()\n",
        "\n",
        "# Print the number of rows with missing data\n",
        "print(f\"Number of Rows with Missing Data (contains '?'): {num_missing_rows}\")\n",
        "\n",
        "# Replace '?' with NaN\n",
        "merged_dataset.replace('?', np.nan, inplace=True)\n"
      ],
      "metadata": {
        "colab": {
          "base_uri": "https://localhost:8080/"
        },
        "id": "4Q5fgDVtYqVK",
        "outputId": "d49b613f-88ae-4cdd-b260-8526419d5a1d"
      },
      "execution_count": 11,
      "outputs": [
        {
          "output_type": "stream",
          "name": "stdout",
          "text": [
            "Number of Rows with Missing Data (contains '?'): 293\n"
          ]
        },
        {
          "output_type": "stream",
          "name": "stderr",
          "text": [
            "<ipython-input-11-d677b265e7da>:2: FutureWarning: DataFrame.applymap has been deprecated. Use DataFrame.map instead.\n",
            "  missing_data_rows = merged_dataset.applymap(lambda x: x == '?').any(axis=1)\n"
          ]
        }
      ]
    },
    {
      "cell_type": "code",
      "source": [
        "# Decision Tree Classifier\n",
        "# Removed Empty Data Records\n",
        "\n",
        "import pandas as pd\n",
        "import numpy as np\n",
        "from sklearn.model_selection import train_test_split\n",
        "from sklearn.tree import DecisionTreeClassifier\n",
        "from sklearn.impute import SimpleImputer\n",
        "from sklearn.metrics import accuracy_score\n",
        "\n",
        "# Replace '?' with NaN\n",
        "merged_dataset.replace('?', np.nan, inplace=True)\n",
        "\n",
        "# Convert all columns to numeric\n",
        "merged_dataset = merged_dataset.apply(pd.to_numeric, errors='coerce')\n",
        "\n",
        "# Drop rows where the target variable is NaN\n",
        "merged_dataset.dropna(subset=['target'], inplace=True)  # Replace 'target_column_name' with your actual target column name\n",
        "\n",
        "# Define features and target variable\n",
        "X = merged_dataset.drop('target', axis=1)  # Replace 'target_column_name' with your actual target column name\n",
        "y = merged_dataset['target']  # Replace 'target_column_name' with your actual target column name\n",
        "\n",
        "# Impute missing values in features using the mean of each column\n",
        "imputer = SimpleImputer(strategy='mean')\n",
        "X_imputed = imputer.fit_transform(X)\n",
        "\n",
        "# Split the data into training and testing sets\n",
        "X_train, X_test, y_train, y_test = train_test_split(X_imputed, y, test_size=0.2, random_state=42)\n",
        "\n",
        "# Initialize the Decision Tree classifier\n",
        "model = DecisionTreeClassifier(random_state=42)\n",
        "\n",
        "# Train the model\n",
        "model.fit(X_train, y_train)\n",
        "\n",
        "# Make predictions\n",
        "y_pred = model.predict(X_test)\n",
        "\n",
        "# Evaluate the model\n",
        "accuracy = accuracy_score(y_test, y_pred)\n",
        "print(f\"Decision Tree Model Accuracy: {accuracy * 100:.2f}%\")\n"
      ],
      "metadata": {
        "colab": {
          "base_uri": "https://localhost:8080/"
        },
        "id": "jssZtMX2U16r",
        "outputId": "cc70420f-276f-4244-ab64-6816a185a798"
      },
      "execution_count": 15,
      "outputs": [
        {
          "output_type": "stream",
          "name": "stdout",
          "text": [
            "Decision Tree Model Accuracy: 95.38%\n"
          ]
        }
      ]
    },
    {
      "cell_type": "code",
      "source": [
        "# Neural Network Classifier\n",
        "# Removed Empty Data Records\n",
        "\n",
        "import pandas as pd\n",
        "import numpy as np\n",
        "from sklearn.model_selection import train_test_split\n",
        "from sklearn.impute import SimpleImputer\n",
        "from sklearn.metrics import accuracy_score\n",
        "from sklearn.neural_network import MLPClassifier\n",
        "\n",
        "# Replace '?' with NaN\n",
        "merged_dataset.replace('?', np.nan, inplace=True)\n",
        "\n",
        "# Convert all columns to numeric\n",
        "merged_dataset = merged_dataset.apply(pd.to_numeric, errors='coerce')\n",
        "\n",
        "# Drop rows where the target variable is NaN\n",
        "merged_dataset.dropna(subset=['target'], inplace=True)  # Replace 'target' with your actual target column name\n",
        "\n",
        "# Define features and target variable\n",
        "X = merged_dataset.drop('target', axis=1)  # Replace 'target' with your actual target column name\n",
        "y = merged_dataset['target']  # Replace 'target' with your actual target column name\n",
        "\n",
        "# Impute missing values in features using the mean of each column\n",
        "imputer = SimpleImputer(strategy='mean')\n",
        "X_imputed = imputer.fit_transform(X)\n",
        "\n",
        "# Split the data into training and testing sets\n",
        "X_train, X_test, y_train, y_test = train_test_split(X_imputed, y, test_size=0.2, random_state=42)\n",
        "\n",
        "# Initialize the Neural Network classifier\n",
        "model2 = MLPClassifier(hidden_layer_sizes=(100,), max_iter=300, random_state=42)\n",
        "\n",
        "# Train the model\n",
        "model2.fit(X_train, y_train)\n",
        "\n",
        "# Make predictions\n",
        "y_pred = model2.predict(X_test)\n",
        "\n",
        "# Evaluate the model\n",
        "accuracy = accuracy_score(y_test, y_pred)\n",
        "print(f\"Neural Network Model Accuracy: {accuracy * 100:.2f}%\")\n"
      ],
      "metadata": {
        "colab": {
          "base_uri": "https://localhost:8080/"
        },
        "id": "yforVW-ieUdu",
        "outputId": "9678451a-2cab-4506-a98c-6be99ad0fdc2"
      },
      "execution_count": 18,
      "outputs": [
        {
          "output_type": "stream",
          "name": "stdout",
          "text": [
            "Neural Network Model Accuracy: 75.69%\n"
          ]
        }
      ]
    },
    {
      "cell_type": "code",
      "source": [
        "# prompt: predict using a record\n",
        "\n",
        "import numpy as np\n",
        "# Example new record (replace with your actual values)\n",
        "new_record = np.array([[67, 0, 3, 60, 200, 0, 0, 100, 0, 1.6, 0, 0, 7]])\n",
        "\n",
        "# Impute missing values if any (using the same imputer fitted earlier)\n",
        "new_record_imputed = imputer.transform(new_record)\n",
        "\n",
        "# Make prediction\n",
        "prediction = model2.predict(new_record_imputed)\n",
        "\n",
        "# Print prediction\n",
        "if prediction[0] == 0:\n",
        "    print(\"Prediction: No Heart Attack\")\n",
        "else:\n",
        "    print(\"Prediction: Heart Attack\")\n"
      ],
      "metadata": {
        "colab": {
          "base_uri": "https://localhost:8080/"
        },
        "id": "NYGGvfgTe_OV",
        "outputId": "962a6073-1db4-483f-b589-5d983e6e8d8c"
      },
      "execution_count": 24,
      "outputs": [
        {
          "output_type": "stream",
          "name": "stdout",
          "text": [
            "Prediction: No Heart Attack\n"
          ]
        },
        {
          "output_type": "stream",
          "name": "stderr",
          "text": [
            "/usr/local/lib/python3.10/dist-packages/sklearn/base.py:465: UserWarning: X does not have valid feature names, but SimpleImputer was fitted with feature names\n",
            "  warnings.warn(\n"
          ]
        }
      ]
    }
  ]
}